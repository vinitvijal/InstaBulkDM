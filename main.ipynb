{
 "cells": [
  {
   "cell_type": "code",
   "execution_count": 1,
   "metadata": {},
   "outputs": [
    {
     "name": "stdout",
     "output_type": "stream",
     "text": [
      "Requirement already satisfied: instagrapi in ./venv/lib/python3.10/site-packages (2.0.0)\n",
      "Requirement already satisfied: pycryptodomex==3.18.0 in ./venv/lib/python3.10/site-packages (from instagrapi) (3.18.0)\n",
      "Requirement already satisfied: PySocks==1.7.1 in ./venv/lib/python3.10/site-packages (from instagrapi) (1.7.1)\n",
      "Requirement already satisfied: pydantic==1.10.9 in ./venv/lib/python3.10/site-packages (from instagrapi) (1.10.9)\n",
      "Requirement already satisfied: requests<3.0,>=2.25.1 in ./venv/lib/python3.10/site-packages (from instagrapi) (2.31.0)\n",
      "Requirement already satisfied: typing-extensions>=4.2.0 in ./venv/lib/python3.10/site-packages (from pydantic==1.10.9->instagrapi) (4.8.0)\n",
      "Requirement already satisfied: idna<4,>=2.5 in ./venv/lib/python3.10/site-packages (from requests<3.0,>=2.25.1->instagrapi) (3.4)\n",
      "Requirement already satisfied: charset-normalizer<4,>=2 in ./venv/lib/python3.10/site-packages (from requests<3.0,>=2.25.1->instagrapi) (3.2.0)\n",
      "Requirement already satisfied: urllib3<3,>=1.21.1 in ./venv/lib/python3.10/site-packages (from requests<3.0,>=2.25.1->instagrapi) (2.0.5)\n",
      "Requirement already satisfied: certifi>=2017.4.17 in ./venv/lib/python3.10/site-packages (from requests<3.0,>=2.25.1->instagrapi) (2023.7.22)\n",
      "\n",
      "\u001b[1m[\u001b[0m\u001b[34;49mnotice\u001b[0m\u001b[1;39;49m]\u001b[0m\u001b[39;49m A new release of pip available: \u001b[0m\u001b[31;49m22.2.1\u001b[0m\u001b[39;49m -> \u001b[0m\u001b[32;49m23.2.1\u001b[0m\n",
      "\u001b[1m[\u001b[0m\u001b[34;49mnotice\u001b[0m\u001b[1;39;49m]\u001b[0m\u001b[39;49m To update, run: \u001b[0m\u001b[32;49mpip install --upgrade pip\u001b[0m\n"
     ]
    }
   ],
   "source": [
    "!pip3 install instagrapi"
   ]
  },
  {
   "cell_type": "code",
   "execution_count": 2,
   "metadata": {},
   "outputs": [
    {
     "name": "stdout",
     "output_type": "stream",
     "text": [
      "Collecting Pillow\n",
      "  Using cached Pillow-10.0.1-cp310-cp310-macosx_11_0_arm64.whl (3.3 MB)\n",
      "Collecting pandas\n",
      "  Using cached pandas-2.1.1-cp310-cp310-macosx_11_0_arm64.whl (10.9 MB)\n",
      "Collecting openpyxl\n",
      "  Using cached openpyxl-3.1.2-py2.py3-none-any.whl (249 kB)\n",
      "Collecting numpy>=1.22.4\n",
      "  Using cached numpy-1.26.0-cp310-cp310-macosx_11_0_arm64.whl (14.0 MB)\n",
      "Collecting pytz>=2020.1\n",
      "  Using cached pytz-2023.3.post1-py2.py3-none-any.whl (502 kB)\n",
      "Collecting tzdata>=2022.1\n",
      "  Using cached tzdata-2023.3-py2.py3-none-any.whl (341 kB)\n",
      "Requirement already satisfied: python-dateutil>=2.8.2 in ./venv/lib/python3.10/site-packages (from pandas) (2.8.2)\n",
      "Collecting et-xmlfile\n",
      "  Using cached et_xmlfile-1.1.0-py3-none-any.whl (4.7 kB)\n",
      "Requirement already satisfied: six>=1.5 in ./venv/lib/python3.10/site-packages (from python-dateutil>=2.8.2->pandas) (1.16.0)\n",
      "Installing collected packages: pytz, tzdata, Pillow, numpy, et-xmlfile, pandas, openpyxl\n",
      "Successfully installed Pillow-10.0.1 et-xmlfile-1.1.0 numpy-1.26.0 openpyxl-3.1.2 pandas-2.1.1 pytz-2023.3.post1 tzdata-2023.3\n",
      "\n",
      "\u001b[1m[\u001b[0m\u001b[34;49mnotice\u001b[0m\u001b[1;39;49m]\u001b[0m\u001b[39;49m A new release of pip available: \u001b[0m\u001b[31;49m22.2.1\u001b[0m\u001b[39;49m -> \u001b[0m\u001b[32;49m23.2.1\u001b[0m\n",
      "\u001b[1m[\u001b[0m\u001b[34;49mnotice\u001b[0m\u001b[1;39;49m]\u001b[0m\u001b[39;49m To update, run: \u001b[0m\u001b[32;49mpip install --upgrade pip\u001b[0m\n"
     ]
    }
   ],
   "source": [
    "!pip3 install Pillow pandas openpyxl"
   ]
  },
  {
   "cell_type": "code",
   "execution_count": 3,
   "metadata": {},
   "outputs": [],
   "source": [
    "import pandas as pd"
   ]
  },
  {
   "cell_type": "code",
   "execution_count": 4,
   "metadata": {},
   "outputs": [],
   "source": [
    "import pickle"
   ]
  },
  {
   "cell_type": "code",
   "execution_count": 5,
   "metadata": {},
   "outputs": [
    {
     "data": {
      "text/plain": [
       "True"
      ]
     },
     "execution_count": 5,
     "metadata": {},
     "output_type": "execute_result"
    }
   ],
   "source": [
    "from instagrapi import Client\n",
    "\n",
    "cl = Client()\n",
    "cl.login('study_spark', '05092021')"
   ]
  },
  {
   "cell_type": "code",
   "execution_count": 6,
   "metadata": {},
   "outputs": [
    {
     "name": "stderr",
     "output_type": "stream",
     "text": [
      "/var/folders/7t/8jntnw7951dd8cswq6xhbw8m0000gn/T/ipykernel_52376/2374089128.py:1: DtypeWarning: Columns (2,5,23,27,32) have mixed types. Specify dtype option on import or set low_memory=False.\n",
      "  f = pd.read_csv('domains_export.csv')\n"
     ]
    },
    {
     "data": {
      "text/plain": [
       "0           NaN\n",
       "1    arienti.lk\n",
       "2           NaN\n",
       "3           NaN\n",
       "4           NaN\n",
       "Name: instagram, dtype: object"
      ]
     },
     "execution_count": 6,
     "metadata": {},
     "output_type": "execute_result"
    }
   ],
   "source": [
    "f = pd.read_csv('domains_export.csv')\n",
    "f = f['instagram']\n",
    "f.head(5)"
   ]
  },
  {
   "cell_type": "code",
   "execution_count": 8,
   "metadata": {},
   "outputs": [
    {
     "name": "stdout",
     "output_type": "stream",
     "text": [
      "arienti.lk : 275929606\n",
      "uswellnessmeats : 2328462586\n",
      "streamlinehq : 8107568623\n",
      "mrwestdrinks : 2218395388\n",
      "every_foods : 7769141442\n",
      "virunganationalpark : 2216474652\n",
      "bjsrestaurants : 312932539\n",
      "kith : 21109548\n",
      "polishedblossom : 59082703371\n",
      "brittneybellohair : 891600772\n"
     ]
    }
   ],
   "source": [
    "d = {}\n",
    "count = 10\n",
    "for i in f:\n",
    "    if count == 0:\n",
    "        break\n",
    "    if str(i) == \"nan\":\n",
    "        continue\n",
    "    else:\n",
    "        print(i, end=' : ')\n",
    "        try:\n",
    "            user_id = cl.user_id_from_username(i)\n",
    "            print(user_id)\n",
    "            d[i] = user_id\n",
    "            count -= 1\n",
    "        except:\n",
    "            print(i + ' : not found')\n",
    "            pass\n",
    "\n",
    "m = open('instagram.bat', 'wb')\n",
    "pickle.dump(d, m)\n",
    "m.close()\n",
    "# user_id = cl.user_id_from_username('its.vinit_vijal__')\n",
    "# print(user_id)"
   ]
  },
  {
   "cell_type": "code",
   "execution_count": 9,
   "metadata": {},
   "outputs": [
    {
     "name": "stdout",
     "output_type": "stream",
     "text": [
      "{'arienti.lk': '275929606', 'uswellnessmeats': '2328462586', 'streamlinehq': '8107568623', 'mrwestdrinks': '2218395388', 'every_foods': '7769141442', 'virunganationalpark': '2216474652', 'bjsrestaurants': '312932539', 'kith': '21109548', 'polishedblossom': '59082703371', 'brittneybellohair': '891600772'}\n"
     ]
    }
   ],
   "source": [
    "k = open('instagram.bat', 'rb')\n",
    "d = pickle.load(k)\n",
    "print(d)"
   ]
  },
  {
   "cell_type": "code",
   "execution_count": 23,
   "metadata": {},
   "outputs": [
    {
     "name": "stdout",
     "output_type": "stream",
     "text": [
      "Vinit Vijal\n"
     ]
    },
    {
     "ename": "KeyError",
     "evalue": "'name'",
     "output_type": "error",
     "traceback": [
      "\u001b[0;31m---------------------------------------------------------------------------\u001b[0m",
      "\u001b[0;31mKeyError\u001b[0m                                  Traceback (most recent call last)",
      "\u001b[1;32m/Users/vinitvijal/Documents/Muskan/private-api/main.ipynb Cell 9\u001b[0m line \u001b[0;36m3\n\u001b[1;32m     <a href='vscode-notebook-cell:/Users/vinitvijal/Documents/Muskan/private-api/main.ipynb#X11sZmlsZQ%3D%3D?line=29'>30</a>\u001b[0m username \u001b[39m=\u001b[39m tupleOfThreads[listOfThreads\u001b[39m.\u001b[39mindex(i)][\u001b[39m0\u001b[39m]\n\u001b[1;32m     <a href='vscode-notebook-cell:/Users/vinitvijal/Documents/Muskan/private-api/main.ipynb#X11sZmlsZQ%3D%3D?line=30'>31</a>\u001b[0m name \u001b[39m=\u001b[39m cl\u001b[39m.\u001b[39muser_info_by_username(username)\n\u001b[0;32m---> <a href='vscode-notebook-cell:/Users/vinitvijal/Documents/Muskan/private-api/main.ipynb#X11sZmlsZQ%3D%3D?line=31'>32</a>\u001b[0m cl\u001b[39m.\u001b[39mdirect_send(msg\u001b[39m.\u001b[39;49mformat(ownername\u001b[39m=\u001b[39;49musername), [i])\n\u001b[1;32m     <a href='vscode-notebook-cell:/Users/vinitvijal/Documents/Muskan/private-api/main.ipynb#X11sZmlsZQ%3D%3D?line=32'>33</a>\u001b[0m \u001b[39mprint\u001b[39m(\u001b[39m\"\u001b[39m\u001b[39mSend message to \u001b[39m\u001b[39m\"\u001b[39m \u001b[39m+\u001b[39m \u001b[39mstr\u001b[39m(i) \u001b[39m+\u001b[39m \u001b[39m\"\u001b[39m\u001b[39m successfully\u001b[39m\u001b[39m\"\u001b[39m)\n",
      "\u001b[0;31mKeyError\u001b[0m: 'name'"
     ]
    }
   ],
   "source": [
    "listOfThreads = list(d.values())\n",
    "tupleOfThreads = list(d.items())\n",
    "\n",
    "\n",
    "msg = '''\n",
    "Hey {name}! 👋\n",
    "\n",
    "Meet Quickads.ai: AI-powered ad creation in < 30 seconds. With such a tool, businesses can skip the hassle of creating ads from scratch, and boost their business revenue right away. \n",
    "\n",
    "- saving upto $4000 off their budget. \n",
    "- enhancing ROAS up to 10x. \n",
    "\n",
    "What we have in store for you: \n",
    "- A lifetime free subscription\n",
    "- Affiliate links\n",
    "- Exposure and early feature access. \n",
    "\n",
    "Together we can help create value for businesses of all sizes in the best way possible.\n",
    "\n",
    "DM back to chat.\n",
    "'''\n",
    "\n",
    "\n",
    "\n",
    "name = cl.user_info_by_username('its.vinit_vijal__')\n",
    "print(name.full_name)\n",
    "\n",
    "# cl.direct_send(\"hello\", listOfThreads) #this is creating a group instead of sending to multiple users\n",
    "for i in listOfThreads:\n",
    "    username = tupleOfThreads[listOfThreads.index(i)][0]\n",
    "    name = cl.user_info_by_username(username)\n",
    "    cl.direct_send(msg.format(name=username), [i])\n",
    "    print(\"Send message to \" + str(i) + \" successfully\")"
   ]
  },
  {
   "cell_type": "code",
   "execution_count": null,
   "metadata": {},
   "outputs": [],
   "source": []
  }
 ],
 "metadata": {
  "kernelspec": {
   "display_name": ".venv",
   "language": "python",
   "name": "python3"
  },
  "language_info": {
   "codemirror_mode": {
    "name": "ipython",
    "version": 3
   },
   "file_extension": ".py",
   "mimetype": "text/x-python",
   "name": "python",
   "nbconvert_exporter": "python",
   "pygments_lexer": "ipython3",
   "version": "3.10.6"
  },
  "orig_nbformat": 4
 },
 "nbformat": 4,
 "nbformat_minor": 2
}
